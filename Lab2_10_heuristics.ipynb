{
  "nbformat": 4,
  "nbformat_minor": 0,
  "metadata": {
    "colab": {
      "name": "Copy of Lab2 -10 heuristics.ipynb",
      "provenance": [],
      "collapsed_sections": [],
      "include_colab_link": true
    },
    "kernelspec": {
      "name": "python3",
      "display_name": "Python 3"
    }
  },
  "cells": [
    {
      "cell_type": "markdown",
      "metadata": {
        "id": "view-in-github",
        "colab_type": "text"
      },
      "source": [
        "<a href=\"https://colab.research.google.com/github/sebastianreyes9/PracticeWebDesign/blob/master/Lab2_10_heuristics.ipynb\" target=\"_parent\"><img src=\"https://colab.research.google.com/assets/colab-badge.svg\" alt=\"Open In Colab\"/></a>"
      ]
    },
    {
      "cell_type": "markdown",
      "metadata": {
        "id": "6JgrRYtyWUTc",
        "colab_type": "text"
      },
      "source": [
        "# Ten Usability Heuristics\n",
        "\n",
        "### Developed by Jakob Nielsen"
      ]
    },
    {
      "cell_type": "markdown",
      "metadata": {
        "id": "ep30Q_iPWdnT",
        "colab_type": "text"
      },
      "source": [
        "For our lab, we will be evaluating the ten heuristics using the following webpage: \n",
        "\n",
        "- https://www.youtube.com"
      ]
    },
    {
      "cell_type": "markdown",
      "metadata": {
        "id": "p1w1Wmt5WuFD",
        "colab_type": "text"
      },
      "source": [
        "### Visibility of system status\n",
        "The system should always keep users informed about what is going on, through appropriate feedback within reasonable time.\n",
        "\n",
        "\n",
        "![Heuristic 1](https://raw.githubusercontent.com/sarmstrong03/PracticeWithWebDesign/master/images/Heuristic%201.png)\n",
        "\n",
        "\n",
        "\n",
        "When the user clicks a video on YouTube, many times, this loading symbol appears in the area where the chosen video will be played so that these users become aware/updated on the fact that the system has received the request to watch the video however it is still preparing to play. "
      ]
    },
    {
      "cell_type": "markdown",
      "metadata": {
        "id": "gL-x1q02W1Vk",
        "colab_type": "text"
      },
      "source": [
        "### Match between system and the real world\n",
        "The system should speak the users' language, with words, phrases and concepts familiar to the user, rather than system-oriented terms. Follow real-world conventions, making information appear in a natural and logical order.\n",
        "\n",
        "![Heuristic2](https://raw.githubusercontent.com/sarmstrong03/PracticeWithWebDesign/master/images/Heurisitc%202.png)\n",
        "\n",
        "In this screenshot, it is seen that YouTube uses the term \"trending\" for one of their tabs. This relates to this heuristic because instead of coming up with new silly terms or phrases such as \"what's hot right now\" and risking confusion for the users, the designers chose to stick to familar words in which the users will understand and make it easier to navigate.\n"
      ]
    },
    {
      "cell_type": "markdown",
      "metadata": {
        "id": "p9WB5-rtZd9I",
        "colab_type": "text"
      },
      "source": [
        "### User control and freedom\n",
        "Users often choose system functions by mistake and will need a clearly marked \"emergency exit\" to leave the unwanted state without having to go through an extended dialogue. Support undo and redo.\n",
        "\n",
        "![Heuristic3](https://raw.githubusercontent.com/sarmstrong03/PracticeWithWebDesign/master/images/Screen%20Shot%202020-09-17%20at%205.47.33%20PM.png)\n",
        "\n",
        "![Heurisitc3](https://raw.githubusercontent.com/sarmstrong03/PracticeWithWebDesign/master/images/Screen%20Shot%202020-09-17%20at%205.48.11%20PM.png)\n",
        "\n",
        "YouTube follows this heuristic by allowing users to easily fix their own mistakes. In these screenshots, the user searched up \"pancake recipes\" however forgot the term \"buttermilk\". So after acknowledging this mistake, the user can easily type in the missing words or phrases right away without having to retype the whole search which would risk the user making mistakes again."
      ]
    },
    {
      "cell_type": "markdown",
      "metadata": {
        "id": "lX7j0pZ8Zedg",
        "colab_type": "text"
      },
      "source": [
        "### Consistency and standards\n",
        "Users should not have to wonder whether different words, situations, or actions mean the same thing. Follow platform conventions.\n",
        "\n",
        "![Heuristic4](https://raw.githubusercontent.com/sarmstrong03/PracticeWithWebDesign/master/images/Heuristic%204.png)\n",
        "\n",
        "YouTube follows this heuristic because this website refers to it's central webpage as \"home\" which is a term familiar to the users because almost all websites have been consistent in referring to the central hub of the site as home. Just as a home in real life refers to the place that one always reverts to as a centralized location, \"home\" on YouTube is where one reverts to to then branch out and look for more videos to watch. "
      ]
    },
    {
      "cell_type": "markdown",
      "metadata": {
        "id": "ER6ArHdmZfSI",
        "colab_type": "text"
      },
      "source": [
        "### Error prevention\n",
        "Even better than good error messages is a careful design which prevents a problem from occurring in the first place. Either eliminate error-prone conditions or check for them and present users with a confirmation option before they commit to the action.\n",
        "\n",
        "![Heuristic5](https://raw.githubusercontent.com/sarmstrong03/PracticeWithWebDesign/master/images/Heuristic%205.png)\n",
        "\n",
        "In relation to this heuristic, when commenting on YouTube videos, there lacks a confimation in order to make sure the user is fully aware of their comments being pubblished. However, if one does comment on a post and immediately or eventually regrets publishing it, there is an easily accessible option to delete the comment and or edit it. "
      ]
    },
    {
      "cell_type": "markdown",
      "metadata": {
        "id": "9M3cqXkLZf7B",
        "colab_type": "text"
      },
      "source": [
        "### Recognition rather than recall\n",
        "System should strive to promote recognition over recall. This minimizes user work which is essential for a good user experience. \n",
        "\n",
        "- ![Screenshot](https://raw.githubusercontent.com/sebastianreyes9/PracticeWebDesign/master/Images/Screen%20Shot%202020-09-17%20at%2010.16.30%20AM.png)\n",
        "\n",
        "Youtube adheres to this heuristic by adding the menu on the left. The icons are put in place so that the user can navigate the website with ease. The user recognizes what the icons are, in turn minimizing the work that they have to do to get to their destination. "
      ]
    },
    {
      "cell_type": "markdown",
      "metadata": {
        "id": "B4xOtXMWZgfp",
        "colab_type": "text"
      },
      "source": [
        "### Flexibility and efficiency of use \n",
        "Accelerators -- unseen by the novice user -- may often speed up the interaction for the expert user such that the system can cater to both inexperienced and experienced users. Allow users to tailor frequent actions.\n",
        "\n",
        "- ![Screenshot](https://raw.githubusercontent.com/sebastianreyes9/PracticeWebDesign/master/Images/Screen%20Shot%202020-09-17%20at%2011.54.58%20AM.png) \n",
        "\n",
        "Youtube provides various keyboard shortcuts for experienced users to utilize. An example is toggling fullscreen by pressing \"f\". More experienced users can use this shortcut to speed up that interaction but novice users can just use the full screen button at the bottom right of every video. This is an example of the website's flexibility and it proves that it adheres to this heuristic. "
      ]
    },
    {
      "cell_type": "markdown",
      "metadata": {
        "id": "F968s-f-ZhGA",
        "colab_type": "text"
      },
      "source": [
        "### Aesthetic and minimalist design\n",
        "Dialogues should not contain information which is irrelevant or rarely needed. Every extra unit of information in a dialogue competes with the relevant units of information and diminishes their relative visibility.\n",
        "\n",
        "- ![Screenshot](https://raw.githubusercontent.com/sebastianreyes9/PracticeWebDesign/master/Images/Screen%20Shot%202020-09-17%20at%2012.05.57%20PM.png) \n",
        "\n",
        "This is a screenshot of a video playing, the interface isn't crowded and shows relevant information. For example the video takes up most of the screen space and to the right of it is the suggested video section. This use of space makes sense and doesn't diminish from the relative visibility of the video the user is watching. "
      ]
    },
    {
      "cell_type": "markdown",
      "metadata": {
        "id": "WFtkqJ8wZhjx",
        "colab_type": "text"
      },
      "source": [
        "### Help users recognize, diagnose, and recover from errors\n",
        "Error messages should be expressed in plain language (no codes), precisely indicate the problem, and constructively suggest a solution.\n",
        "\n",
        "- ![Screenshot](https://raw.githubusercontent.com/sebastianreyes9/PracticeWebDesign/master/Images/Screen%20Shot%202020-09-17%20at%202.44.46%20PM.png) \n",
        "\n",
        "In this screenshot the user tried uploading a video with a school affiliated account. Youtube provides this error message indicating that they don't have the permission for the action. The message provided is easy to read and precisely points out the problem while aslo suggesting a solution for the user. Because of this it is evident that Youtube followed the heurisitc."
      ]
    },
    {
      "cell_type": "markdown",
      "metadata": {
        "id": "x8_uAFYHZifo",
        "colab_type": "text"
      },
      "source": [
        "### Help and documentation\n",
        "Even though it is better if the system can be used without documentation, it may be necessary to provide help and documentation. Any such information should be easy to search, focused on the user's task, list concrete steps to be carried out, and not be too large.\n",
        "\n",
        "- ![Screenshot](https://raw.githubusercontent.com/sebastianreyes9/PracticeWebDesign/master/Images/Screen%20Shot%202020-09-17%20at%2010.12.39%20PM.png) \n",
        "\n",
        "The help section of youtube is fairly easy to find, if the user scrolls down on the icon menu to the lefthand side of the screen they will be able to locate it. When the user clicks on the icon a text entry window appears on the screen and the user can search for whatever it is they need help with. This adheres nicely to the heuristic because it provides feedback related to the user's query in real time making the feature feel responsive. "
      ]
    }
  ]
}