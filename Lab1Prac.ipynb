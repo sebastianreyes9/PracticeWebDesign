{
  "nbformat": 4,
  "nbformat_minor": 0,
  "metadata": {
    "colab": {
      "name": "Lab1Prac.ipynb",
      "provenance": [],
      "collapsed_sections": [],
      "authorship_tag": "ABX9TyMoKzkNPXmCjvnT6802Fire",
      "include_colab_link": true
    },
    "kernelspec": {
      "name": "python3",
      "display_name": "Python 3"
    }
  },
  "cells": [
    {
      "cell_type": "markdown",
      "metadata": {
        "id": "view-in-github",
        "colab_type": "text"
      },
      "source": [
        "<a href=\"https://colab.research.google.com/github/sebastianreyes9/PracticeWebDesign/blob/master/Lab1Prac.ipynb\" target=\"_parent\"><img src=\"https://colab.research.google.com/assets/colab-badge.svg\" alt=\"Open In Colab\"/></a>"
      ]
    },
    {
      "cell_type": "markdown",
      "metadata": {
        "id": "STtU99XivI5Z",
        "colab_type": "text"
      },
      "source": [
        "## Do you like using Jupyter Notebooks? "
      ]
    },
    {
      "cell_type": "markdown",
      "metadata": {
        "id": "_aFvML9IvPs0",
        "colab_type": "text"
      },
      "source": [
        "I like it! It's interesting and I'm excited. "
      ]
    },
    {
      "cell_type": "markdown",
      "metadata": {
        "id": "L-_Oh2HxvSBX",
        "colab_type": "text"
      },
      "source": [
        "## What do you want to learn more about in Jupyter Notebooks"
      ]
    },
    {
      "cell_type": "markdown",
      "metadata": {
        "id": "ljnCk9K9vXNy",
        "colab_type": "text"
      },
      "source": [
        "I want to learn how to make a website for my future endevours. I also would like to be introduced to code. \n"
      ]
    },
    {
      "cell_type": "markdown",
      "metadata": {
        "id": "jNIXW4KNvvMc",
        "colab_type": "text"
      },
      "source": [
        "![Spongebob](https://raw.githubusercontent.com/sebastianreyes9/PracticeWebDesign/master/Images/IMG_5063.jpeg)"
      ]
    }
  ]
}